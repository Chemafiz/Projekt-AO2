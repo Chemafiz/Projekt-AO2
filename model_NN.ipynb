{
 "cells": [
  {
   "cell_type": "markdown",
   "metadata": {},
   "source": [
    "# Digits recognition using Deep Learning\n",
    "### Using Deep Learning to recognise hand-written digits. \n",
    "\n",
    "The project includes two trained models. One \"naive\" using a regular perceptron and the other using the Convolutional Neural Network"
   ]
  },
  {
   "cell_type": "markdown",
   "metadata": {},
   "source": [
    "## Data preprocessing"
   ]
  },
  {
   "cell_type": "code",
   "execution_count": null,
   "metadata": {
    "id": "HyE0v9sZeKs0"
   },
   "outputs": [],
   "source": [
    "import tensorflow.keras as keras\n",
    "import numpy as np\n",
    "import pandas as pd\n",
    "import matplotlib.pyplot as plt"
   ]
  },
  {
   "cell_type": "code",
   "execution_count": null,
   "metadata": {
    "id": "ylU24MnIeZOs"
   },
   "outputs": [],
   "source": [
    "#importing MNIST dataset with handwritten digits \n",
    "from sklearn.datasets import fetch_openml\n",
    "df = fetch_openml(\"mnist_784\", version=1)"
   ]
  },
  {
   "cell_type": "code",
   "execution_count": null,
   "metadata": {
    "colab": {
     "base_uri": "https://localhost:8080/"
    },
    "id": "z-dnHwZQebvW",
    "outputId": "bf8c4050-78fb-4c39-943e-06c7352ac1f9"
   },
   "outputs": [
    {
     "data": {
      "text/plain": [
       "((70000, 784), (70000,))"
      ]
     },
     "execution_count": 3,
     "metadata": {},
     "output_type": "execute_result"
    }
   ],
   "source": [
    "#dividing dataset into data and target datasets\n",
    "X, y = np.array(df[\"data\"]), np.array(df[\"target\"])\n",
    "X.shape, y.shape"
   ]
  },
  {
   "cell_type": "code",
   "execution_count": null,
   "metadata": {
    "colab": {
     "base_uri": "https://localhost:8080/"
    },
    "id": "j8manfxzebyV",
    "outputId": "40a74f34-ce18-4d27-a455-897c1221021f"
   },
   "outputs": [
    {
     "data": {
      "text/plain": [
       "array([[0., 0., 0., ..., 0., 0., 0.],\n",
       "       [0., 0., 0., ..., 0., 0., 0.],\n",
       "       [0., 0., 0., ..., 0., 0., 0.],\n",
       "       ...,\n",
       "       [0., 0., 0., ..., 0., 0., 0.],\n",
       "       [0., 0., 0., ..., 0., 0., 0.],\n",
       "       [0., 0., 0., ..., 0., 0., 0.]])"
      ]
     },
     "execution_count": 4,
     "metadata": {},
     "output_type": "execute_result"
    }
   ],
   "source": [
    "X"
   ]
  },
  {
   "cell_type": "code",
   "execution_count": null,
   "metadata": {
    "colab": {
     "base_uri": "https://localhost:8080/"
    },
    "id": "ZDZSfIereb1O",
    "outputId": "5b4de74e-ce03-487e-db68-759393ddbf67"
   },
   "outputs": [
    {
     "data": {
      "text/plain": [
       "array(['5', '0', '4', ..., '4', '5', '6'], dtype=object)"
      ]
     },
     "execution_count": 5,
     "metadata": {},
     "output_type": "execute_result"
    }
   ],
   "source": [
    "y"
   ]
  },
  {
   "cell_type": "code",
   "execution_count": null,
   "metadata": {
    "colab": {
     "base_uri": "https://localhost:8080/"
    },
    "id": "BnvyFyrEgMqj",
    "outputId": "0a9b0aae-0195-43e5-a9af-cd41813d0714"
   },
   "outputs": [
    {
     "name": "stdout",
     "output_type": "stream",
     "text": [
      "<class 'str'>\n",
      "<class 'numpy.uint8'>\n"
     ]
    }
   ],
   "source": [
    "#y data are str type, let's transform it\n",
    "print(type(y[0]))\n",
    "y = y.astype(\"uint8\")\n",
    "print(type(y[0]))"
   ]
  },
  {
   "cell_type": "code",
   "execution_count": null,
   "metadata": {
    "colab": {
     "base_uri": "https://localhost:8080/",
     "height": 265
    },
    "id": "Jvppw2queb8t",
    "outputId": "c96556d5-6c54-41b0-caf7-3d2dca0fe958"
   },
   "outputs": [
    {
     "data": {
      "image/png": "[encoded data removed]",
      "text/plain": [
       "<Figure size 432x288 with 1 Axes>"
      ]
     },
     "metadata": {
      "needs_background": "light"
     },
     "output_type": "display_data"
    }
   ],
   "source": [
    "#showing sample image of number\n",
    "plt.imshow(X[0].reshape(28,28), cmap = \"binary\")\n",
    "plt.show()"
   ]
  },
  {
   "cell_type": "code",
   "execution_count": null,
   "metadata": {
    "id": "Lmq2siRDh5DN"
   },
   "outputs": [],
   "source": [
    "#scale data between 0 and 1\n",
    "from sklearn.preprocessing import MinMaxScaler\n",
    "\n",
    "scaler = MinMaxScaler()\n",
    "X = scaler.fit_transform(X)"
   ]
  },
  {
   "cell_type": "code",
   "execution_count": null,
   "metadata": {
    "id": "nO4ynA4Yeb3t"
   },
   "outputs": [],
   "source": [
    "#splitting datasets into train and test sets\n",
    "from sklearn.model_selection import train_test_split\n",
    "X_train_full, X_test, y_train_full, y_test = train_test_split(X,y, test_size=0.10, random_state=42)"
   ]
  },
  {
   "cell_type": "code",
   "execution_count": null,
   "metadata": {
    "colab": {
     "base_uri": "https://localhost:8080/"
    },
    "id": "67a-oADZeb51",
    "outputId": "63098683-1fac-43d5-d669-9aaa1a1817f6"
   },
   "outputs": [
    {
     "data": {
      "text/plain": [
       "((63000, 784), (63000,))"
      ]
     },
     "execution_count": 10,
     "metadata": {},
     "output_type": "execute_result"
    }
   ],
   "source": [
    "X_train_full.shape, y_train_full.shape"
   ]
  },
  {
   "cell_type": "code",
   "execution_count": null,
   "metadata": {
    "id": "g6pAqI_aeb_V"
   },
   "outputs": [],
   "source": [
    "#validation set\n",
    "X_valid, X_train = X_train_full[:5000], X_train_full[5000:]\n",
    "y_valid, y_train = y_train_full[:5000], y_train_full[5000:]"
   ]
  },
  {
   "cell_type": "markdown",
   "metadata": {
    "id": "pj3pMr3ykhbi"
   },
   "source": [
    "## Building Convolutional neural network"
   ]
  },
  {
   "cell_type": "code",
   "execution_count": null,
   "metadata": {
    "id": "2MgQdzWPkhdc"
   },
   "outputs": [],
   "source": [
    "#reshaping data to be original image shape\n",
    "X_train =X_train.reshape(-1, 28,28,1) \n",
    "X_test = X_test.reshape(-1, 28,28,1)\n",
    "X_valid = X_valid.reshape(-1, 28,28,1)"
   ]
  },
  {
   "cell_type": "code",
   "execution_count": null,
   "metadata": {
    "id": "joBxJ9XnkhY-"
   },
   "outputs": [],
   "source": [
    "#building model\n",
    "from keras.layers import (\n",
    "    Conv2D,\n",
    "    MaxPool2D,\n",
    "    Flatten,\n",
    "    Dropout,\n",
    "    BatchNormalization,\n",
    ")\n",
    "\n",
    "model2 = Sequential([\n",
    "    Conv2D(75, (3, 3), strides=1, padding=\"same\", activation=\"relu\", input_shape=(28, 28, 1)),\n",
    "    BatchNormalization(),\n",
    "    MaxPool2D((2, 2), strides=2, padding=\"same\"),\n",
    "    Conv2D(50, (3, 3), strides=1, padding=\"same\", activation=\"relu\"),\n",
    "    Dropout(0.2),\n",
    "    BatchNormalization(),\n",
    "    MaxPool2D((2, 2), strides=2, padding=\"same\"),\n",
    "    Conv2D(25, (3, 3), strides=1, padding=\"same\", activation=\"relu\"),\n",
    "    BatchNormalization(),\n",
    "    MaxPool2D((2, 2), strides=2, padding=\"same\"),\n",
    "    Flatten(),\n",
    "    Dense(units=512, activation=\"relu\"),\n",
    "    Dropout(0.3),\n",
    "    Dense(units=10, activation=\"softmax\")\n",
    "])"
   ]
  },
  {
   "cell_type": "code",
   "execution_count": null,
   "metadata": {
    "colab": {
     "base_uri": "https://localhost:8080/"
    },
    "id": "mk5S6YyXTYA4",
    "outputId": "1f094bf7-8756-4b0a-db7f-d43c08d64705"
   },
   "outputs": [
    {
     "name": "stdout",
     "output_type": "stream",
     "text": [
      "Model: \"sequential_1\"\n",
      "_________________________________________________________________\n",
      " Layer (type)                Output Shape              Param #   \n",
      "=================================================================\n",
      " conv2d (Conv2D)             (None, 28, 28, 75)        750       \n",
      "                                                                 \n",
      " batch_normalization (BatchN  (None, 28, 28, 75)       300       \n",
      " ormalization)                                                   \n",
      "                                                                 \n",
      " max_pooling2d (MaxPooling2D  (None, 14, 14, 75)       0         \n",
      " )                                                               \n",
      "                                                                 \n",
      " conv2d_1 (Conv2D)           (None, 14, 14, 50)        33800     \n",
      "                                                                 \n",
      " dropout (Dropout)           (None, 14, 14, 50)        0         \n",
      "                                                                 \n",
      " batch_normalization_1 (Batc  (None, 14, 14, 50)       200       \n",
      " hNormalization)                                                 \n",
      "                                                                 \n",
      " max_pooling2d_1 (MaxPooling  (None, 7, 7, 50)         0         \n",
      " 2D)                                                             \n",
      "                                                                 \n",
      " conv2d_2 (Conv2D)           (None, 7, 7, 25)          11275     \n",
      "                                                                 \n",
      " batch_normalization_2 (Batc  (None, 7, 7, 25)         100       \n",
      " hNormalization)                                                 \n",
      "                                                                 \n",
      " max_pooling2d_2 (MaxPooling  (None, 4, 4, 25)         0         \n",
      " 2D)                                                             \n",
      "                                                                 \n",
      " flatten (Flatten)           (None, 400)               0         \n",
      "                                                                 \n",
      " dense_3 (Dense)             (None, 512)               205312    \n",
      "                                                                 \n",
      " dropout_1 (Dropout)         (None, 512)               0         \n",
      "                                                                 \n",
      " dense_4 (Dense)             (None, 10)                5130      \n",
      "                                                                 \n",
      "=================================================================\n",
      "Total params: 256,867\n",
      "Trainable params: 256,567\n",
      "Non-trainable params: 300\n",
      "_________________________________________________________________\n"
     ]
    }
   ],
   "source": [
    "#all layers of the model \n",
    "model2.summary()"
   ]
  },
  {
   "cell_type": "code",
   "execution_count": null,
   "metadata": {
    "id": "KS4vnxqHNCfh"
   },
   "outputs": [],
   "source": [
    "model2.compile(loss=\"sparse_categorical_crossentropy\", optimizer=\"sgd\", metrics=[\"accuracy\"])"
   ]
  },
  {
   "cell_type": "code",
   "execution_count": null,
   "metadata": {
    "colab": {
     "base_uri": "https://localhost:8080/"
    },
    "id": "TTyYJVmtNCmq",
    "outputId": "768ca825-7771-4c33-89c4-40d76435401e"
   },
   "outputs": [
    {
     "name": "stdout",
     "output_type": "stream",
     "text": [
      "Epoch 1/30\n",
      "1813/1813 [==============================] - 14s 5ms/step - loss: 0.1737 - accuracy: 0.9469 - val_loss: 0.0650 - val_accuracy: 0.9808\n",
      "Epoch 2/30\n",
      "1813/1813 [==============================] - 8s 4ms/step - loss: 0.0664 - accuracy: 0.9796 - val_loss: 0.0530 - val_accuracy: 0.9854\n",
      "Epoch 3/30\n",
      "1813/1813 [==============================] - 8s 5ms/step - loss: 0.0501 - accuracy: 0.9837 - val_loss: 0.0455 - val_accuracy: 0.9854\n",
      "Epoch 4/30\n",
      "1813/1813 [==============================] - 8s 4ms/step - loss: 0.0422 - accuracy: 0.9872 - val_loss: 0.0358 - val_accuracy: 0.9898\n",
      "Epoch 5/30\n",
      "1813/1813 [==============================] - 9s 5ms/step - loss: 0.0352 - accuracy: 0.9893 - val_loss: 0.0324 - val_accuracy: 0.9898\n",
      "Epoch 6/30\n",
      "1813/1813 [==============================] - 8s 4ms/step - loss: 0.0319 - accuracy: 0.9899 - val_loss: 0.0309 - val_accuracy: 0.9892\n",
      "Epoch 7/30\n",
      "1813/1813 [==============================] - 8s 5ms/step - loss: 0.0288 - accuracy: 0.9908 - val_loss: 0.0284 - val_accuracy: 0.9900\n",
      "Epoch 8/30\n",
      "1813/1813 [==============================] - 8s 4ms/step - loss: 0.0257 - accuracy: 0.9919 - val_loss: 0.0295 - val_accuracy: 0.9908\n",
      "Epoch 9/30\n",
      "1813/1813 [==============================] - 8s 4ms/step - loss: 0.0247 - accuracy: 0.9920 - val_loss: 0.0301 - val_accuracy: 0.9898\n",
      "Epoch 10/30\n",
      "1813/1813 [==============================] - 8s 4ms/step - loss: 0.0210 - accuracy: 0.9934 - val_loss: 0.0247 - val_accuracy: 0.9930\n",
      "Epoch 11/30\n",
      "1813/1813 [==============================] - 8s 4ms/step - loss: 0.0196 - accuracy: 0.9936 - val_loss: 0.0232 - val_accuracy: 0.9922\n",
      "Epoch 12/30\n",
      "1813/1813 [==============================] - 8s 4ms/step - loss: 0.0184 - accuracy: 0.9944 - val_loss: 0.0262 - val_accuracy: 0.9914\n",
      "Epoch 13/30\n",
      "1813/1813 [==============================] - 8s 4ms/step - loss: 0.0181 - accuracy: 0.9943 - val_loss: 0.0268 - val_accuracy: 0.9904\n",
      "Epoch 14/30\n",
      "1813/1813 [==============================] - 8s 4ms/step - loss: 0.0166 - accuracy: 0.9946 - val_loss: 0.0229 - val_accuracy: 0.9920\n",
      "Epoch 15/30\n",
      "1813/1813 [==============================] - 8s 5ms/step - loss: 0.0143 - accuracy: 0.9954 - val_loss: 0.0237 - val_accuracy: 0.9926\n",
      "Epoch 16/30\n",
      "1813/1813 [==============================] - 8s 5ms/step - loss: 0.0141 - accuracy: 0.9956 - val_loss: 0.0274 - val_accuracy: 0.9912\n",
      "Epoch 17/30\n",
      "1813/1813 [==============================] - 8s 5ms/step - loss: 0.0131 - accuracy: 0.9956 - val_loss: 0.0209 - val_accuracy: 0.9936\n",
      "Epoch 18/30\n",
      "1813/1813 [==============================] - 8s 5ms/step - loss: 0.0124 - accuracy: 0.9961 - val_loss: 0.0235 - val_accuracy: 0.9918\n",
      "Epoch 19/30\n",
      "1813/1813 [==============================] - 8s 4ms/step - loss: 0.0123 - accuracy: 0.9961 - val_loss: 0.0237 - val_accuracy: 0.9924\n",
      "Epoch 20/30\n",
      "1813/1813 [==============================] - 8s 4ms/step - loss: 0.0112 - accuracy: 0.9966 - val_loss: 0.0245 - val_accuracy: 0.9920\n",
      "Epoch 21/30\n",
      "1813/1813 [==============================] - 8s 4ms/step - loss: 0.0106 - accuracy: 0.9966 - val_loss: 0.0197 - val_accuracy: 0.9940\n",
      "Epoch 22/30\n",
      "1813/1813 [==============================] - 8s 5ms/step - loss: 0.0095 - accuracy: 0.9971 - val_loss: 0.0199 - val_accuracy: 0.9940\n",
      "Epoch 23/30\n",
      "1813/1813 [==============================] - 8s 4ms/step - loss: 0.0098 - accuracy: 0.9971 - val_loss: 0.0219 - val_accuracy: 0.9928\n",
      "Epoch 24/30\n",
      "1813/1813 [==============================] - 8s 4ms/step - loss: 0.0089 - accuracy: 0.9974 - val_loss: 0.0206 - val_accuracy: 0.9936\n",
      "Epoch 25/30\n",
      "1813/1813 [==============================] - 8s 5ms/step - loss: 0.0092 - accuracy: 0.9969 - val_loss: 0.0195 - val_accuracy: 0.9952\n",
      "Epoch 26/30\n",
      "1813/1813 [==============================] - 8s 4ms/step - loss: 0.0073 - accuracy: 0.9978 - val_loss: 0.0205 - val_accuracy: 0.9942\n",
      "Epoch 27/30\n",
      "1813/1813 [==============================] - 8s 5ms/step - loss: 0.0080 - accuracy: 0.9976 - val_loss: 0.0192 - val_accuracy: 0.9948\n",
      "Epoch 28/30\n",
      "1813/1813 [==============================] - 8s 5ms/step - loss: 0.0071 - accuracy: 0.9980 - val_loss: 0.0224 - val_accuracy: 0.9930\n",
      "Epoch 29/30\n",
      "1813/1813 [==============================] - 8s 4ms/step - loss: 0.0078 - accuracy: 0.9973 - val_loss: 0.0193 - val_accuracy: 0.9944\n",
      "Epoch 30/30\n",
      "1813/1813 [==============================] - 8s 5ms/step - loss: 0.0069 - accuracy: 0.9978 - val_loss: 0.0239 - val_accuracy: 0.9936\n"
     ]
    }
   ],
   "source": [
    "#training model\n",
    "history2= model2.fit(X_train, y_train, epochs=30, validation_data=(X_valid, y_valid))"
   ]
  },
  {
   "cell_type": "code",
   "execution_count": null,
   "metadata": {
    "colab": {
     "base_uri": "https://localhost:8080/",
     "height": 487
    },
    "id": "iSnQC6VONCpT",
    "outputId": "aaca44da-a700-4606-c7f8-07f469406bd7"
   },
   "outputs": [
    {
     "data": {
      "image/png": "[encoded data removed]",
      "text/plain": [
       "<Figure size 720x576 with 1 Axes>"
      ]
     },
     "metadata": {
      "needs_background": "light"
     },
     "output_type": "display_data"
    }
   ],
   "source": [
    "#learning curve\n",
    "pd.DataFrame(history2.history).plot(figsize=(10,8))\n",
    "plt.grid(True)\n",
    "plt.ylim(0,1)\n",
    "plt.xlim(0,)\n",
    "plt.show()"
   ]
  },
  {
   "cell_type": "code",
   "execution_count": null,
   "metadata": {
    "colab": {
     "base_uri": "https://localhost:8080/"
    },
    "id": "SJ3uThqRNCr1",
    "outputId": "84e8c7b9-c8b7-4b64-f630-49ca54fc64f1"
   },
   "outputs": [
    {
     "name": "stdout",
     "output_type": "stream",
     "text": [
      "219/219 [==============================] - 1s 6ms/step - loss: 0.0283 - accuracy: 0.9900\n"
     ]
    },
    {
     "data": {
      "text/plain": [
       "[0.02827921137213707, 0.9900000095367432]"
      ]
     },
     "execution_count": 42,
     "metadata": {},
     "output_type": "execute_result"
    }
   ],
   "source": [
    "#evaluation\n",
    "model2.evaluate(X_test, y_test)"
   ]
  },
  {
   "cell_type": "markdown",
   "metadata": {},
   "source": [
    "### 99% accuracy, impresive but curious what the variance looks like..."
   ]
  },
  {
   "cell_type": "code",
   "execution_count": null,
   "metadata": {
    "colab": {
     "base_uri": "https://localhost:8080/"
    },
    "id": "idtjDQ0fNCuv",
    "outputId": "ebb72f31-729d-4cce-a65d-ff726ee4e656"
   },
   "outputs": [
    {
     "name": "stderr",
     "output_type": "stream",
     "text": [
      "WARNING:absl:Found untraced functions such as _jit_compiled_convolution_op, _jit_compiled_convolution_op, _jit_compiled_convolution_op while saving (showing 3 of 3). These functions will not be directly callable after loading.\n"
     ]
    }
   ],
   "source": [
    "#saving model\n",
    "from tensorflow.keras.models import Model\n",
    "from tensorflow.keras.models import load_model\n",
    "model2.save(\"CNN_model\")"
   ]
  },
  {
   "cell_type": "markdown",
   "metadata": {},
   "source": [
    "## Building Convolutional neural network with data augmentation"
   ]
  },
  {
   "cell_type": "code",
   "execution_count": null,
   "metadata": {
    "id": "kQFpNXc_tl3r"
   },
   "outputs": [],
   "source": [
    "#reshaping data to be original image shape\n",
    "X_train =X_train.reshape(-1, 28,28,1) \n",
    "X_test = X_test.reshape(-1, 28,28,1)\n",
    "X_valid = X_valid.reshape(-1, 28,28,1)"
   ]
  },
  {
   "cell_type": "code",
   "execution_count": null,
   "metadata": {
    "id": "7nwzcCPbrxPk"
   },
   "outputs": [],
   "source": [
    "#model \n",
    "from tensorflow.keras.models import Sequential\n",
    "from tensorflow.keras.layers import (\n",
    "    Dense,\n",
    "    Conv2D,\n",
    "    MaxPool2D,\n",
    "    Flatten,\n",
    "    Dropout,\n",
    "    BatchNormalization,\n",
    ")\n",
    "\n",
    "model3 = Sequential([\n",
    "    Conv2D(75, (3, 3), strides=1, padding=\"same\", activation=\"relu\", input_shape=(28, 28, 1)),\n",
    "    BatchNormalization(),\n",
    "    MaxPool2D((2, 2), strides=2, padding=\"same\"),\n",
    "    Conv2D(50, (3, 3), strides=1, padding=\"same\", activation=\"relu\"),\n",
    "    Dropout(0.2),\n",
    "    BatchNormalization(),\n",
    "    MaxPool2D((2, 2), strides=2, padding=\"same\"),\n",
    "    Conv2D(25, (3, 3), strides=1, padding=\"same\", activation=\"relu\"),\n",
    "    BatchNormalization(),\n",
    "    MaxPool2D((2, 2), strides=2, padding=\"same\"),\n",
    "    Flatten(),\n",
    "    Dense(units=512, activation=\"relu\"),\n",
    "    Dropout(0.3),\n",
    "    Dense(units=10, activation=\"softmax\")\n",
    "])"
   ]
  },
  {
   "cell_type": "code",
   "execution_count": null,
   "metadata": {
    "id": "WK7KlC4IrxTK"
   },
   "outputs": [],
   "source": [
    "#making data generator \n",
    "from tensorflow.keras.preprocessing.image import ImageDataGenerator\n",
    "\n",
    "datagen = ImageDataGenerator(\n",
    "    rotation_range=10,  # randomly rotate images in the range (degrees, 0 to 180)\n",
    "    zoom_range=0.05,  # Randomly zoom image\n",
    "    width_shift_range=0.05,  # randomly shift images horizontally (fraction of total width)\n",
    "    height_shift_range=0.05,  # randomly shift images vertically (fraction of total height)\n",
    "    horizontal_flip=False,  # Don't randomly flip images horizontally\n",
    "    vertical_flip=False, # Don't randomly flip images vertically\n",
    ")  "
   ]
  },
  {
   "cell_type": "code",
   "execution_count": null,
   "metadata": {
    "colab": {
     "base_uri": "https://localhost:8080/",
     "height": 257
    },
    "id": "t4POU3pErxXF",
    "outputId": "a2dd46da-f49d-4604-bdbf-b4c9bd6ef09c"
   },
   "outputs": [
    {
     "data": {
      "image/png": "[encoded data removed]",
      "text/plain": [
       "<Figure size 432x288 with 32 Axes>"
      ]
     },
     "metadata": {
      "needs_background": "light"
     },
     "output_type": "display_data"
    }
   ],
   "source": [
    "#quick look at generated images\n",
    "batch_size = 32\n",
    "img_iter = datagen.flow(X_train, y_train, batch_size=batch_size)\n",
    "\n",
    "x, y = img_iter.next()\n",
    "fig, ax = plt.subplots(nrows=4, ncols=8)\n",
    "for i in range(batch_size):\n",
    "    image = x[i]\n",
    "    ax.flatten()[i].imshow(np.squeeze(image))\n",
    "plt.show()"
   ]
  },
  {
   "cell_type": "code",
   "execution_count": null,
   "metadata": {
    "id": "6ieoDKHYrxai"
   },
   "outputs": [],
   "source": [
    "datagen.fit(X_train)"
   ]
  },
  {
   "cell_type": "code",
   "execution_count": null,
   "metadata": {
    "id": "KJOL0IHprxdL"
   },
   "outputs": [],
   "source": [
    "model3.compile(loss='sparse_categorical_crossentropy', metrics=['accuracy'])"
   ]
  },
  {
   "cell_type": "code",
   "execution_count": null,
   "metadata": {
    "colab": {
     "base_uri": "https://localhost:8080/"
    },
    "id": "ef9jOJa5u7wW",
    "outputId": "3ec8ee0b-9a9c-408b-8840-956218601004"
   },
   "outputs": [
    {
     "name": "stdout",
     "output_type": "stream",
     "text": [
      "Epoch 1/20\n",
      "1812/1812 [==============================] - 28s 15ms/step - loss: 0.1633 - accuracy: 0.9520 - val_loss: 0.1147 - val_accuracy: 0.9682\n",
      "Epoch 2/20\n",
      "1812/1812 [==============================] - 30s 17ms/step - loss: 0.0820 - accuracy: 0.9783 - val_loss: 0.1537 - val_accuracy: 0.9638\n",
      "Epoch 3/20\n",
      "1812/1812 [==============================] - 25s 14ms/step - loss: 0.0685 - accuracy: 0.9825 - val_loss: 0.0600 - val_accuracy: 0.9836\n",
      "Epoch 4/20\n",
      "1812/1812 [==============================] - 24s 13ms/step - loss: 0.0646 - accuracy: 0.9835 - val_loss: 0.0746 - val_accuracy: 0.9812\n",
      "Epoch 5/20\n",
      "1812/1812 [==============================] - 25s 14ms/step - loss: 0.0598 - accuracy: 0.9856 - val_loss: 0.0248 - val_accuracy: 0.9940\n",
      "Epoch 6/20\n",
      "1812/1812 [==============================] - 25s 14ms/step - loss: 0.0549 - accuracy: 0.9860 - val_loss: 0.0263 - val_accuracy: 0.9934\n",
      "Epoch 7/20\n",
      "1812/1812 [==============================] - 25s 14ms/step - loss: 0.0480 - accuracy: 0.9873 - val_loss: 0.0319 - val_accuracy: 0.9916\n",
      "Epoch 8/20\n",
      "1812/1812 [==============================] - 24s 13ms/step - loss: 0.0468 - accuracy: 0.9878 - val_loss: 0.0509 - val_accuracy: 0.9870\n",
      "Epoch 9/20\n",
      "1812/1812 [==============================] - 24s 13ms/step - loss: 0.0441 - accuracy: 0.9889 - val_loss: 0.0284 - val_accuracy: 0.9922\n",
      "Epoch 10/20\n",
      "1812/1812 [==============================] - 24s 13ms/step - loss: 0.0425 - accuracy: 0.9884 - val_loss: 0.0292 - val_accuracy: 0.9926\n",
      "Epoch 11/20\n",
      "1812/1812 [==============================] - 24s 13ms/step - loss: 0.0384 - accuracy: 0.9896 - val_loss: 0.0317 - val_accuracy: 0.9928\n",
      "Epoch 12/20\n",
      "1812/1812 [==============================] - 24s 14ms/step - loss: 0.0368 - accuracy: 0.9899 - val_loss: 0.0205 - val_accuracy: 0.9946\n",
      "Epoch 13/20\n",
      "1812/1812 [==============================] - 24s 13ms/step - loss: 0.0366 - accuracy: 0.9901 - val_loss: 0.0315 - val_accuracy: 0.9918\n",
      "Epoch 14/20\n",
      "1812/1812 [==============================] - 24s 13ms/step - loss: 0.0349 - accuracy: 0.9903 - val_loss: 0.0260 - val_accuracy: 0.9942\n",
      "Epoch 15/20\n",
      "1812/1812 [==============================] - 24s 13ms/step - loss: 0.0353 - accuracy: 0.9906 - val_loss: 0.0311 - val_accuracy: 0.9934\n",
      "Epoch 16/20\n",
      "1812/1812 [==============================] - 25s 14ms/step - loss: 0.0333 - accuracy: 0.9911 - val_loss: 0.0211 - val_accuracy: 0.9942\n",
      "Epoch 17/20\n",
      "1812/1812 [==============================] - 24s 13ms/step - loss: 0.0316 - accuracy: 0.9911 - val_loss: 0.0279 - val_accuracy: 0.9932\n",
      "Epoch 18/20\n",
      "1812/1812 [==============================] - 24s 13ms/step - loss: 0.0306 - accuracy: 0.9913 - val_loss: 0.0248 - val_accuracy: 0.9932\n",
      "Epoch 19/20\n",
      "1812/1812 [==============================] - 25s 14ms/step - loss: 0.0300 - accuracy: 0.9916 - val_loss: 0.0242 - val_accuracy: 0.9930\n",
      "Epoch 20/20\n",
      "1812/1812 [==============================] - 24s 13ms/step - loss: 0.0296 - accuracy: 0.9918 - val_loss: 0.0179 - val_accuracy: 0.9948\n"
     ]
    }
   ],
   "source": [
    "#training model\n",
    "history3 = model3.fit(img_iter,\n",
    "            epochs=20,\n",
    "            steps_per_epoch=len(X_train)/batch_size, # Run same number of steps we would if we were not using a generator.\n",
    "            validation_data=(X_valid, y_valid))"
   ]
  },
  {
   "cell_type": "code",
   "execution_count": null,
   "metadata": {
    "colab": {
     "base_uri": "https://localhost:8080/",
     "height": 487
    },
    "id": "quco_LnUu8R0",
    "outputId": "b2c67532-6dfd-4cb6-e376-18a5f977355f"
   },
   "outputs": [
    {
     "data": {
      "image/png": "[encoded data removed]",
      "text/plain": [
       "<Figure size 720x576 with 1 Axes>"
      ]
     },
     "metadata": {
      "needs_background": "light"
     },
     "output_type": "display_data"
    }
   ],
   "source": [
    "#learning curves\n",
    "pd.DataFrame(history3.history).plot(figsize=(10,8))\n",
    "plt.grid(True)\n",
    "plt.ylim(0,1)\n",
    "plt.xlim(0,)\n",
    "plt.show()"
   ]
  },
  {
   "cell_type": "code",
   "execution_count": null,
   "metadata": {
    "colab": {
     "base_uri": "https://localhost:8080/"
    },
    "id": "sUKyo0zau8Uf",
    "outputId": "f21c8129-2368-473f-924e-f865f8d84534"
   },
   "outputs": [
    {
     "name": "stdout",
     "output_type": "stream",
     "text": [
      "219/219 [==============================] - 1s 3ms/step - loss: 0.0236 - accuracy: 0.9939\n"
     ]
    },
    {
     "data": {
      "text/plain": [
       "[0.02360602654516697, 0.9938571453094482]"
      ]
     },
     "execution_count": 37,
     "metadata": {},
     "output_type": "execute_result"
    }
   ],
   "source": [
    "#evaluation\n",
    "model3.evaluate(X_test, y_test)"
   ]
  },
  {
   "cell_type": "markdown",
   "metadata": {},
   "source": [
    "### 99.39% accuracy, slightly better than the CNN model, but I bet the variance is much higher"
   ]
  },
  {
   "cell_type": "code",
   "execution_count": null,
   "metadata": {
    "colab": {
     "base_uri": "https://localhost:8080/"
    },
    "id": "UKapVxI0u8XK",
    "outputId": "30f2f145-5e2d-4739-9672-b26a0430852b"
   },
   "outputs": [
    {
     "name": "stderr",
     "output_type": "stream",
     "text": [
      "WARNING:absl:Found untraced functions such as _jit_compiled_convolution_op, _jit_compiled_convolution_op, _jit_compiled_convolution_op while saving (showing 3 of 3). These functions will not be directly callable after loading.\n"
     ]
    }
   ],
   "source": [
    "#saving model\n",
    "model3.save(\"/content/google_drive/MyDrive/Colab Notebooks/digits_recognition/CNN_augmentation_model\")"
   ]
  }
 ],
 "metadata": {
  "accelerator": "GPU",
  "colab": {
   "provenance": []
  },
  "gpuClass": "standard",
  "kernelspec": {
   "display_name": "Python 3 (ipykernel)",
   "language": "python",
   "name": "python3"
  },
  "language_info": {
   "codemirror_mode": {
    "name": "ipython",
    "version": 3
   },
   "file_extension": ".py",
   "mimetype": "text/x-python",
   "name": "python",
   "nbconvert_exporter": "python",
   "pygments_lexer": "ipython3",
   "version": "3.9.15"
  }
 },
 "nbformat": 4,
 "nbformat_minor": 1
}
